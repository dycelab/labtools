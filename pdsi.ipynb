{
 "cells": [
  {
   "cell_type": "code",
   "execution_count": 4,
   "metadata": {},
   "outputs": [],
   "source": [
    "import os\n",
    "import glob\n",
    "\n",
    "import pandas as pd\n",
    "import geopandas as gpd\n",
    "from shapely.geometry import box\n",
    "from shapely.geometry import Polygon\n",
    "\n",
    "import ee\n",
    "\n",
    "from zipfile import ZipFile\n",
    "from zipfile import BadZipfile\n",
    "\n",
    "import requests\n",
    "\n",
    "#ee.Authenticate()\n",
    "ee.Initialize()"
   ]
  },
  {
   "cell_type": "code",
   "execution_count": 7,
   "metadata": {},
   "outputs": [
    {
     "data": {
      "text/html": [
       "<div>\n",
       "<style scoped>\n",
       "    .dataframe tbody tr th:only-of-type {\n",
       "        vertical-align: middle;\n",
       "    }\n",
       "\n",
       "    .dataframe tbody tr th {\n",
       "        vertical-align: top;\n",
       "    }\n",
       "\n",
       "    .dataframe thead th {\n",
       "        text-align: right;\n",
       "    }\n",
       "</style>\n",
       "<table border=\"1\" class=\"dataframe\">\n",
       "  <thead>\n",
       "    <tr style=\"text-align: right;\">\n",
       "      <th></th>\n",
       "      <th>id</th>\n",
       "      <th>SURVEY_YEA</th>\n",
       "      <th>geometry</th>\n",
       "    </tr>\n",
       "  </thead>\n",
       "  <tbody>\n",
       "    <tr>\n",
       "      <th>0</th>\n",
       "      <td>1</td>\n",
       "      <td>2023</td>\n",
       "      <td>POLYGON ((-120.06718 35.03030, -120.06968 37.8...</td>\n",
       "    </tr>\n",
       "  </tbody>\n",
       "</table>\n",
       "</div>"
      ],
      "text/plain": [
       "   id  SURVEY_YEA                                           geometry\n",
       "0   1        2023  POLYGON ((-120.06718 35.03030, -120.06968 37.8..."
      ]
     },
     "execution_count": 7,
     "metadata": {},
     "output_type": "execute_result"
    }
   ],
   "source": [
    "## take the ads file\n",
    "gdf = gpd.read_file('./input/SSN.shp')\n",
    "#gdf.head()\n",
    "#gdf.head()\n",
    "#gdf = gdf[['id', 'SURVEY_YEA', 'geometry']]\n",
    "gdf['id'] = 1\n",
    "gdf['SURVEY_YEA'] = 2023\n",
    "gdf = gdf[['id', 'SURVEY_YEA', 'geometry']]\n",
    "gdf.head()"
   ]
  },
  {
   "cell_type": "code",
   "execution_count": 6,
   "metadata": {},
   "outputs": [],
   "source": [
    "# filter if the API breaks\n",
    "#gdf = gdf[499:]\n",
    "#gdf.head()"
   ]
  },
  {
   "cell_type": "code",
   "execution_count": 8,
   "metadata": {},
   "outputs": [
    {
     "name": "stdout",
     "output_type": "stream",
     "text": [
      "1\n",
      "start is 2000-01-01 end is 2023-12-31\n",
      "./pdsi/images/1\n",
      "Down load succefull\n"
     ]
    }
   ],
   "source": [
    "for index, row in gdf.iterrows():\n",
    "    print(row['id'])\n",
    "\n",
    "    end = row['SURVEY_YEA']\n",
    "    start = end - 23\n",
    "\n",
    "    start_date = str(start)+'-01-01'\n",
    "    end_date = str(end)+'-12-31'\n",
    "\n",
    "    print(f'start is {start_date} end is {end_date}')\n",
    "\n",
    "    corners = list(row['geometry'].exterior.coords)\n",
    "    new_polygon = Polygon(corners)\n",
    "\n",
    "    aoi  = ee.Geometry.Polygon([list(coord) for coord in corners])\n",
    "\n",
    "    pre_collection = ee.ImageCollection('IDAHO_EPSCOR/TERRACLIMATE').filterBounds(aoi).filterDate(start_date, end_date).select('pdsi')\n",
    "    summer_collection = pre_collection.filter(ee.Filter.calendarRange(6, 8, 'month'))\n",
    "    image_list = summer_collection.toList(summer_collection.size())\n",
    "\n",
    "    # create folder for images\n",
    "    ads_id = row['id']\n",
    "    folder_path  = './pdsi/images/'+str(ads_id)\n",
    "    print(folder_path)\n",
    "    # create folders\n",
    "    try:\n",
    "        os.makedirs(folder_path)\n",
    "    except:\n",
    "        print('Folder in place already')\n",
    "    # number of images in collection for aoi\n",
    "    num_images = summer_collection.size().getInfo()\n",
    "    for item in range(0, num_images):\n",
    "        # take images\n",
    "        filter_image = ee.Image(image_list.get(item))\n",
    "        # clip to aoi\n",
    "        pre_image = filter_image.clip(aoi)#.unmask()\n",
    "        # image name\n",
    "        im_name = str(pre_image.get('system:index').getInfo())\n",
    "        #print(im_name)\n",
    "        # take url\n",
    "        try:\n",
    "            url = pre_image.getDownloadURL({'scale':4000,\n",
    "                                                    'filePerBand':False, \n",
    "                                                    'region':aoi,\n",
    "                                                    'crs':'EPSG:4326', \n",
    "                                                    'maxPixels': 1e13})\n",
    "            #print(url)\n",
    "            r = requests.get(url)\n",
    "            with open(folder_path+'/'+im_name+'.zip', 'wb') as f:\n",
    "                f.write(r.content)\n",
    "        except:\n",
    "            print('no images avialable')\n",
    "            continue\n",
    "        # extract the zipfile here\n",
    "        zip_file = glob.glob('./pdsi/images/'+str(ads_id)+'/*zip')\n",
    "        try:\n",
    "            zf = ZipFile(zip_file[0])\n",
    "            zf.extractall('./pdsi/images/'+str(ads_id))\n",
    "            os.remove(zip_file[0])\n",
    "        except BadZipfile:\n",
    "            os.remove(zip_file[0])\n",
    "\n",
    "    print('Down load succefull')"
   ]
  },
  {
   "cell_type": "code",
   "execution_count": null,
   "metadata": {},
   "outputs": [],
   "source": []
  },
  {
   "cell_type": "code",
   "execution_count": null,
   "metadata": {},
   "outputs": [],
   "source": []
  },
  {
   "cell_type": "code",
   "execution_count": null,
   "metadata": {},
   "outputs": [],
   "source": []
  }
 ],
 "metadata": {
  "kernelspec": {
   "display_name": "Python 3 (ipykernel)",
   "language": "python",
   "name": "python3"
  },
  "language_info": {
   "codemirror_mode": {
    "name": "ipython",
    "version": 3
   },
   "file_extension": ".py",
   "mimetype": "text/x-python",
   "name": "python",
   "nbconvert_exporter": "python",
   "pygments_lexer": "ipython3",
   "version": "3.11.7"
  }
 },
 "nbformat": 4,
 "nbformat_minor": 2
}
