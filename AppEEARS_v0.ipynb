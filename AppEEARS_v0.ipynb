{
 "cells": [
  {
   "cell_type": "markdown",
   "id": "e06693d7",
   "metadata": {},
   "source": [
    "### NASA satellite data download API via AppEEARS\n",
    "Author: Yahampath A Marambe; email:  yahampath.marambe@utah.edu  \n",
    "\n",
    "Code adpoted from the example code from LPDAAC"
   ]
  },
  {
   "cell_type": "code",
   "execution_count": 45,
   "id": "1885dc9d-81ec-491f-af28-6e7b05ebab4e",
   "metadata": {},
   "outputs": [],
   "source": [
    "# import packages\n",
    "import requests as r\n",
    "import getpass, pprint, time, os, cgi, json\n",
    "import geopandas as gpd\n"
   ]
  },
  {
   "cell_type": "markdown",
   "id": "b055d1e4",
   "metadata": {},
   "source": [
    "### USER inputs here\n",
    "Give username, password and task name when the code prompts for inputs  \n",
    "following cell is dedicated to change product, bands, date range, and coordinates"
   ]
  },
  {
   "cell_type": "code",
   "execution_count": 46,
   "id": "f526f4ed",
   "metadata": {},
   "outputs": [],
   "source": [
    "# mention the product here\n",
    "prods = ['L08.002'] # look for this product id in https://appeears.earthdatacloud.nasa.gov/products \n",
    "\n",
    "# layers for download\n",
    "layers = [(prods[0], 'SR_B2'),\n",
    "          #(prods[0], 'SR_B3'),\n",
    "          #(prods[0], 'SR_B4'),\n",
    "          #(prods[0], 'SR_B5'),\n",
    "          #(prods[0], 'SR_B6'),\n",
    "          #(prods[0], 'SR_B7')\n",
    "          ]\n",
    "# select the task type\n",
    "tsk_type = [\n",
    "            'point',\n",
    "            #'area'\n",
    "            ]  \n",
    "\n",
    "# day ranges\n",
    "start  = '05-01-2023' # MM-DD-YYYY\n",
    "end = '08-01-2023' # MM-DD-YYYY\n",
    "\n",
    "# GeoJSON coordinate object to submit task for different regions\n",
    "coordinates = [{\n",
    "        \"id\": \"0\",\n",
    "        \"longitude\": \"-119.03368536943579\",\n",
    "        \"latitude\": \"36.93119616355591\",\n",
    "        \"category\": \"SN\"\n",
    "        }, {\n",
    "        \"id\": \"1\", \n",
    "        \"longitude\": \"-105.74880383393888\",\n",
    "        \"latitude\": \"40.14930109570027\",\n",
    "        \"category\": \"ARP\"\n",
    "        }]"
   ]
  },
  {
   "cell_type": "markdown",
   "id": "11ac69c7",
   "metadata": {},
   "source": [
    "### USER inpu ends"
   ]
  },
  {
   "cell_type": "code",
   "execution_count": 47,
   "id": "0702126d",
   "metadata": {},
   "outputs": [
    {
     "name": "stdout",
     "output_type": "stream",
     "text": [
      "The token response is {'message': \"The server could not verify that you are authorized to access the URL requested. You either supplied the wrong credentials (e.g. a bad password), or your browser doesn't understand how to supply the credentials required.\"}\n"
     ]
    }
   ],
   "source": [
    "# set the output directory\n",
    "inDir = '.'\n",
    "# api as a variable\n",
    "api = 'https://appeears.earthdatacloud.nasa.gov/api/' \n",
    " # Input NASA Earthdata Login Username and password\n",
    "user = getpass.getpass(prompt = 'Enter NASA Earthdata Login Username: ')     \n",
    "password = getpass.getpass(prompt = 'Enter NASA Earthdata Login Password: ')\n",
    "# take a token for the task\n",
    "token_response = r.post('{}login'.format(api), auth=(user, password)).json()\n",
    "# delete the user name and password for safety\n",
    "del user, password \n",
    "print(f'The token response is {token_response}')\n"
   ]
  },
  {
   "cell_type": "code",
   "execution_count": 44,
   "id": "03fdb610",
   "metadata": {},
   "outputs": [
    {
     "name": "stdout",
     "output_type": "stream",
     "text": [
      "AρρEEARS currently supports 155 products.\n",
      "These are the aviable products\n",
      "These are selected product informations\n",
      "{'Available': True,\n",
      " 'DOI': '10.5066/P960F8OC',\n",
      " 'Deleted': False,\n",
      " 'Description': 'Landsat Collection 2 ARD Surface Reflectance - Landsat 8',\n",
      " 'DocLink': 'https://www.usgs.gov/landsat-missions/landsat-collection-2-us-analysis-ready-data',\n",
      " 'Info': {'extension': 'tif',\n",
      "          'platform': 'LANDSAT_8',\n",
      "          'provider_id': 'landsat_prod'},\n",
      " 'Platform': 'Landsat ARD',\n",
      " 'Product': 'L08',\n",
      " 'ProductAndVersion': 'L08.002',\n",
      " 'RasterType': 'Tile',\n",
      " 'Resolution': '30m',\n",
      " 'Source': 'USGS',\n",
      " 'TemporalExtentEnd': 'Present',\n",
      " 'TemporalExtentStart': '2013-03-18',\n",
      " 'TemporalGranularity': '16 day',\n",
      " 'Version': '002'}\n",
      "Availbe bands for the product\n",
      "['QA_LINEAGE',\n",
      " 'QA_PIXEL',\n",
      " 'QA_RADSAT',\n",
      " 'SR_B1',\n",
      " 'SR_B2',\n",
      " 'SR_B3',\n",
      " 'SR_B4',\n",
      " 'SR_B5',\n",
      " 'SR_B6',\n",
      " 'SR_B7',\n",
      " 'SR_QA_AEROSOL']\n",
      "Band 2 Surface Reflectance\n",
      "*******************\n",
      "Fowllowing layers will be downloaded\n",
      "[('L08.002', 'SR_B2'),\n",
      " ('L08.002', 'SR_B3'),\n",
      " ('L08.002', 'SR_B4'),\n",
      " ('L08.002', 'SR_B5'),\n",
      " ('L08.002', 'SR_B6'),\n",
      " ('L08.002', 'SR_B7')]\n",
      "Layer product combinations\n",
      "[{'layer': 'SR_B2', 'product': 'L08.002'},\n",
      " {'layer': 'SR_B3', 'product': 'L08.002'},\n",
      " {'layer': 'SR_B4', 'product': 'L08.002'},\n",
      " {'layer': 'SR_B5', 'product': 'L08.002'},\n",
      " {'layer': 'SR_B6', 'product': 'L08.002'},\n",
      " {'layer': 'SR_B7', 'product': 'L08.002'}]\n"
     ]
    }
   ],
   "source": [
    "# print number of aviable products\n",
    "product_response = r.get('{}product'.format(api)).json()\n",
    "print('AρρEEARS currently supports {} products.'.format(len(product_response)))\n",
    "# Create all product names and indexes\n",
    "products = {p['ProductAndVersion']: p for p in product_response}\n",
    "# print all products if need\n",
    "print(f'These are the aviable products')\n",
    "#pprint.pprint(products)\n",
    "# take the product you want with indexing and print all information\n",
    "prd = products['L08.002'] # look for this product id in https://appeears.earthdatacloud.nasa.gov/products \n",
    "# print it with all info\n",
    "print('These are selected product informations')\n",
    "pprint.pprint(prd)\n",
    "# give the product of interrest\n",
    "#prods = ['L08.002'] # this is already metioned above\n",
    "# see all the response / subdata /bands for this product\n",
    "lst_response = r.get('{}product/{}'.format(api, prods[0])).json()\n",
    "print('Availbe bands for the product')\n",
    "pprint.pprint(list(lst_response.keys()))\n",
    "# and just try printing a band discription\n",
    "print(lst_response['SR_B2']['Description'])\n",
    "# mention layers: keep comment if mentioned above\n",
    "#layers = [(prods[0], 'SR_B2'),\n",
    "#          (prods[0], 'SR_B3'),\n",
    "#          (prods[0], 'SR_B4')]\n",
    "# print layers for downloading\n",
    "print('*******************')\n",
    "print('Fowllowing layers will be downloaded')\n",
    "pprint.pprint(layers)\n",
    "# create a list of dictonery contain all layers product combinations\n",
    "prodLayer = []\n",
    "for l in layers:\n",
    "    prodLayer.append({\n",
    "            \"layer\": l[1],\n",
    "            \"product\": l[0]\n",
    "          })\n",
    "# layer product combinations\n",
    "print('Layer product combinations')\n",
    "pprint.pprint(prodLayer)\n",
    "\n",
    "# point request submission\n",
    "# save login token \n",
    "token = token_response['token'] \n",
    "# create a header to submit a request\n",
    "head = {'Authorization': 'Bearer {}'.format(token)}\n",
    "# give a task name to current task\n",
    "task_name = input('Enter a Task Name: ')\n",
    "#task_type = ['point','area']  \n",
    "task_type = tsk_type \n",
    "startDate = start   \n",
    "endDate = end       \n",
    "recurring = False          \n",
    "#yearRange = [2000,2016]    # If recurring = True, set yearRange, change start/end date to MM-DD\n",
    "\n"
   ]
  },
  {
   "cell_type": "markdown",
   "id": "d5d4e29e",
   "metadata": {},
   "source": [
    "### Task building and submitting task"
   ]
  },
  {
   "cell_type": "code",
   "execution_count": 49,
   "id": "36e4a0da",
   "metadata": {},
   "outputs": [
    {
     "name": "stdout",
     "output_type": "stream",
     "text": [
      "{'params': {'coordinates': [{'category': 'SN',\n",
      "                             'id': '0',\n",
      "                             'latitude': '36.93119616355591',\n",
      "                             'longitude': '-119.03368536943579'},\n",
      "                            {'category': 'ARP',\n",
      "                             'id': '1',\n",
      "                             'latitude': '40.14930109570027',\n",
      "                             'longitude': '-105.74880383393888'}],\n",
      "            'dates': [{'endDate': '08-01-2023', 'startDate': '05-01-2023'}],\n",
      "            'layers': [{'layer': 'SR_B2', 'product': 'L08.002'},\n",
      "                       {'layer': 'SR_B3', 'product': 'L08.002'},\n",
      "                       {'layer': 'SR_B4', 'product': 'L08.002'},\n",
      "                       {'layer': 'SR_B5', 'product': 'L08.002'},\n",
      "                       {'layer': 'SR_B6', 'product': 'L08.002'},\n",
      "                       {'layer': 'SR_B7', 'product': 'L08.002'}]},\n",
      " 'task_name': 'task1',\n",
      " 'task_type': 'point'}\n",
      "{'task_id': 'eb707ed2-8f96-4d62-b608-9df358a56dc3', 'status': 'pending'}\n",
      "[{'tier': 2, 'error': None, 'params': {'dates': [{'endDate': '08-01-2023', 'startDate': '05-01-2023'}], 'layers': [{'layer': 'SR_B2', 'product': 'L08.002'}, {'layer': 'SR_B3', 'product': 'L08.002'}, {'layer': 'SR_B4', 'product': 'L08.002'}, {'layer': 'SR_B5', 'product': 'L08.002'}, {'layer': 'SR_B6', 'product': 'L08.002'}, {'layer': 'SR_B7', 'product': 'L08.002'}]}, 'status': 'queued', 'created': '2024-09-05T04:09:14.034058', 'task_id': 'eb707ed2-8f96-4d62-b608-9df358a56dc3', 'updated': '2024-09-05T04:09:14.133967', 'user_id': 'yahampath.marambe@utah.edu', 'estimate': {'request_size': 10, 'request_memory': 1}, 'retry_at': None, 'has_swath': False, 'task_name': 'task1', 'task_type': 'point', 'api_version': 'v1', 'svc_version': '3.61', 'web_version': None, 'has_nsidc_daac': False, 'expires_on': '2024-10-05T04:09:14.133967'}, {'tier': 2, 'error': None, 'params': {'dates': [{'endDate': '08-01-2023', 'startDate': '05-01-2023'}], 'layers': [{'layer': 'SR_B2', 'product': 'L08.002'}, {'layer': 'SR_B3', 'product': 'L08.002'}, {'layer': 'SR_B4', 'product': 'L08.002'}, {'layer': 'SR_B5', 'product': 'L08.002'}, {'layer': 'SR_B6', 'product': 'L08.002'}, {'layer': 'SR_B7', 'product': 'L08.002'}]}, 'status': 'processing', 'created': '2024-09-05T04:07:22.831355', 'task_id': '8648d812-bb7c-4b8e-a3a8-74ccecbfd221', 'updated': '2024-09-05T04:09:06.543144', 'user_id': 'yahampath.marambe@utah.edu', 'estimate': {'request_size': 10, 'request_memory': 1}, 'retry_at': None, 'has_swath': False, 'task_name': 'task1', 'task_type': 'point', 'api_version': 'v1', 'svc_version': '3.61', 'web_version': None, 'has_nsidc_daac': False, 'expires_on': '2024-10-05T04:09:06.543144'}]\n",
      "{'task_id': 'eb707ed2-8f96-4d62-b608-9df358a56dc3', 'status': 'queued', 'user_id': 'yahampath.marambe@utah.edu', 'updated': '2024-09-05T04:09:14.133967', 'status_type': 'task'}\n",
      "queued\n",
      "queued\n",
      "queued\n",
      "queued\n",
      "processing\n",
      "processing\n",
      "processing\n",
      "done\n"
     ]
    }
   ],
   "source": [
    "task = {\n",
    "    'task_type': task_type[0],\n",
    "    'task_name': task_name,\n",
    "    'params': {\n",
    "         'dates': [\n",
    "         {\n",
    "             'startDate': startDate,\n",
    "             'endDate': endDate\n",
    "         }],\n",
    "         'layers': prodLayer,\n",
    "         'coordinates': coordinates\n",
    "    }\n",
    "}\n",
    "pprint.pprint(task)\n",
    "\n",
    "# send task to api\n",
    "task_response = r.post('{}task'.format(api), json=task, headers=head).json()\n",
    "print(task_response)\n",
    "# limit to 2 recent entries\n",
    "params = {'limit': 2, 'pretty': True} \n",
    "# Query task service setting params & header\n",
    "tasks_response = r.get('{}task'.format(api),params = params, headers=head).json() \n",
    "print(tasks_response)\n",
    "\n",
    "# task id for sumission\n",
    "task_id = task_response['task_id']                    \n",
    "status_response = r.get('{}status/{}'.format(api, task_id), headers=head).json() \n",
    "print(status_response)\n",
    "\n",
    "# Ping API until request is complete ; live update of status\n",
    "starttime = time.time()\n",
    "while r.get('{}task/{}'.format(api, task_id), headers=head).json()['status'] != 'done':\n",
    "    print(r.get('{}task/{}'.format(api, task_id), headers=head).json()['status'])\n",
    "    time.sleep(20.0 - ((time.time() - starttime) % 20.0))\n",
    "print(r.get('{}task/{}'.format(api, task_id), headers=head).json()['status'])"
   ]
  },
  {
   "cell_type": "code",
   "execution_count": 50,
   "id": "0151cc88",
   "metadata": {},
   "outputs": [
    {
     "name": "stdout",
     "output_type": "stream",
     "text": [
      "{'files': [{'sha256': 'fe6b09d4fc05bae861beb5d7741f8f3c017a7c062ddb7bcc22a54fdc76084f0a', 'file_id': 'bd659263-55f6-4b9d-a3ed-c911fddb829c', 'file_name': 'task1-L08-002-results.csv', 'file_size': 12346, 'file_type': 'csv', 's3_url': 's3://appeears-output/eb707ed2-8f96-4d62-b608-9df358a56dc3/task1-L08-002-results.csv'}, {'sha256': '7ad0326c77ba20a30ce8ecd782acb64f3543ef3135a834ad6688665453a3792b', 'file_id': 'b66800b1-bc39-4ac8-91aa-44aaddec4023', 'file_name': 'task1-granule-list.txt', 'file_size': 17160, 'file_type': 'txt', 's3_url': 's3://appeears-output/eb707ed2-8f96-4d62-b608-9df358a56dc3/task1-granule-list.txt'}, {'sha256': '6ba14c9a0c549e452906d310b076300a0609ba0dfa5d94cff4e3c1415e4d4184', 'file_id': '75b881b5-10d4-46ab-9c1a-9ae4f21cdd23', 'file_name': 'task1-request.json', 'file_size': 1070, 'file_type': 'json', 's3_url': 's3://appeears-output/eb707ed2-8f96-4d62-b608-9df358a56dc3/task1-request.json'}, {'sha256': '90d53604e81bc68db572f32f2c8b3de689df86b9fbdfd49601af9bea36a5d040', 'file_id': '8254abc4-1619-4c7a-b02d-a41929216dc0', 'file_name': 'task1-L08-002-metadata.xml', 'file_size': 16877, 'file_type': 'xml', 's3_url': 's3://appeears-output/eb707ed2-8f96-4d62-b608-9df358a56dc3/task1-L08-002-metadata.xml'}, {'sha256': 'a846b2f9f8a7648b42c7f6b6e12c624ab1c75c9f299612a722ffcd718393774f', 'file_id': 'c60cb34d-8e25-459e-984e-3d002528a3e8', 'file_name': 'README.md', 'file_size': 26585, 'file_type': 'txt', 's3_url': 's3://appeears-output/eb707ed2-8f96-4d62-b608-9df358a56dc3/README.md'}], 'created': '2024-09-05T04:10:30.080688', 'task_id': 'eb707ed2-8f96-4d62-b608-9df358a56dc3', 'updated': '2024-09-05T04:11:33.292822', 'bundle_type': 'point'}\n",
      "{'bd659263-55f6-4b9d-a3ed-c911fddb829c': 'task1-L08-002-results.csv', 'b66800b1-bc39-4ac8-91aa-44aaddec4023': 'task1-granule-list.txt', '75b881b5-10d4-46ab-9c1a-9ae4f21cdd23': 'task1-request.json', '8254abc4-1619-4c7a-b02d-a41929216dc0': 'task1-L08-002-metadata.xml', 'c60cb34d-8e25-459e-984e-3d002528a3e8': 'README.md'}\n",
      "Downloaded files can be found at: ./task1\n"
     ]
    }
   ],
   "source": [
    "# set destination \n",
    "destDir = os.path.join(inDir, task_name)                \n",
    "if not os.path.exists(destDir):os.makedirs(destDir)     # Create the output directory\n",
    "\n",
    "bundle = r.get('{}bundle/{}'.format(api,task_id), headers=head).json()  # Call API and return bundle contents for the task_id as json\n",
    "print(bundle)\n",
    "\n",
    "files = {}                                                       # Create empty dictionary\n",
    "for f in bundle['files']: files[f['file_id']] = f['file_name']   # Fill dictionary with file_id as keys and file_name as values\n",
    "print(files)\n",
    "\n",
    "\n",
    "# downloading files\n",
    "for f in files:\n",
    "    dl = r.get('{}bundle/{}/{}'.format(api, task_id, f), headers=head, stream=True, allow_redirects = \"TRUE\")  # Get a stream to the bundle file\n",
    "    if files[f].endswith('.tif'):\n",
    "        filename = files[f].split('/')[1]\n",
    "    else:\n",
    "        filename = files[f]\n",
    "    filepath = os.path.join(destDir, filename)                                            # Create output file path\n",
    "    with open(filepath, 'wb') as f:                                                       # Write file to dest dir\n",
    "        for data in dl.iter_content(chunk_size=8192): f.write(data) \n",
    "print('Downloaded files can be found at: {}'.format(destDir))\n"
   ]
  },
  {
   "cell_type": "markdown",
   "id": "cd0ca98a",
   "metadata": {},
   "source": [
    "Note:\n",
    "Read the granule list file, you can use those tif file paths with request packge to download them to the local computer. For, testing just copy paste the path in the web browse and image will start to download."
   ]
  },
  {
   "cell_type": "code",
   "execution_count": null,
   "id": "5609e619",
   "metadata": {},
   "outputs": [],
   "source": [
    "### Read the"
   ]
  }
 ],
 "metadata": {
  "kernelspec": {
   "display_name": "Python 3 (ipykernel)",
   "language": "python",
   "name": "python3"
  },
  "language_info": {
   "codemirror_mode": {
    "name": "ipython",
    "version": 3
   },
   "file_extension": ".py",
   "mimetype": "text/x-python",
   "name": "python",
   "nbconvert_exporter": "python",
   "pygments_lexer": "ipython3",
   "version": "3.11.6"
  }
 },
 "nbformat": 4,
 "nbformat_minor": 5
}
